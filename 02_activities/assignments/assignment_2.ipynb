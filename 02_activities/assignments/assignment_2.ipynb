{
 "cells": [
  {
   "cell_type": "markdown",
   "metadata": {},
   "source": [
    "# Practice Interview\n",
    "\n",
    "## Objective\n",
    "\n",
    "_*The partner assignment aims to provide participants with the opportunity to practice coding in an interview context. You will analyze your partner's Assignment 1. Moreover, code reviews are common practice in a software development team. This assignment should give you a taste of the code review process.*_\n",
    "\n",
    "## Group Size\n",
    "\n",
    "Each group should have 2 people. You will be assigned a partner\n",
    "\n",
    "## Part 1:\n",
    "\n",
    "You and your partner must share each other's Assignment 1 submission."
   ]
  },
  {
   "cell_type": "markdown",
   "metadata": {},
   "source": [
    "\n",
    "## Part 2:\n",
    "\n",
    "Create a Jupyter Notebook, create 6 of the following headings, and complete the following for your partner's assignment 1:\n",
    "\n",
    "-   Paraphrase the problem in your own words.\n"
   ]
  },
  {
   "cell_type": "code",
   "execution_count": null,
   "metadata": {},
   "outputs": [],
   "source": [
    "# Your answer here\n",
    "\n",
    "In this exercise, I am required to traverse a binary tree data structure and determine if any value appears more than once. Actions to take when the afore mentioned occurs is to return the value, Also, when there are several repeated values, then we return the value closest to the root of the tree.\n",
    "Scenarios where we find several duplicates at same root level, any of such values can be returned and finally, after seraching the entire tree and there are no duplicates, we return an output -1."
   ]
  },
  {
   "cell_type": "markdown",
   "metadata": {},
   "source": [
    "\n",
    "-   Create 1 new example that demonstrates you understand the problem. Trace/walkthrough 1 example that your partner made and explain it.\n"
   ]
  },
  {
   "cell_type": "code",
   "execution_count": 6,
   "metadata": {},
   "outputs": [
    {
     "name": "stdout",
     "output_type": "stream",
     "text": [
      "7\n",
      "6\n",
      "-1\n"
     ]
    }
   ],
   "source": [
    "# Your answer here\n",
    "\n",
    "from typing import Optional\n",
    "\n",
    "class TreeNode:\n",
    "    def __init__(self, val=0, left=None, right=None):\n",
    "        self.val = val\n",
    "        self.left = left\n",
    "        self.right = right\n",
    "\n",
    "def duplicate_search(root: Optional[TreeNode]) -> int:\n",
    "    if not root:\n",
    "        return -1\n",
    "    \n",
    "    seen = set()\n",
    "    queue = [(root, 0)] \n",
    "    \n",
    "    while queue:\n",
    "        node, level = queue.pop(0)\n",
    "        \n",
    "        if node.val in seen:\n",
    "            return node.val\n",
    "        \n",
    "        seen.add(node.val)\n",
    "        \n",
    "        if node.left:\n",
    "            queue.append((node.left, level + 1))\n",
    "        if node.right:\n",
    "            queue.append((node.right, level + 1))\n",
    "    \n",
    "    return -1\n",
    "\n",
    "root = TreeNode(7)\n",
    "root.left = TreeNode(3)\n",
    "root.right = TreeNode(5)\n",
    "root.left.left = TreeNode(4)\n",
    "root.left.right = TreeNode(6)\n",
    "root.right.left = TreeNode(7)\n",
    "root.right.right = TreeNode(8)\n",
    "\n",
    "root1 = TreeNode(2)\n",
    "root1.left = TreeNode(4)\n",
    "root1.right = TreeNode(10)\n",
    "root1.left.left = TreeNode(6)\n",
    "root1.left.right = TreeNode(6)\n",
    "root1.right.left = TreeNode(7)\n",
    "root1.right.right = TreeNode(10)\n",
    "\n",
    "\n",
    "root2 = TreeNode(2)\n",
    "root2.left = TreeNode(4)\n",
    "root2.right = TreeNode(10)\n",
    "root2.left.left = TreeNode(6)\n",
    "\n",
    "print(duplicate_search(root))\n",
    "print(duplicate_search(root1))\n",
    "print(duplicate_search(root2))\n"
   ]
  },
  {
   "cell_type": "markdown",
   "metadata": {},
   "source": [
    "\n",
    "-   Copy the solution your partner wrote. \n"
   ]
  },
  {
   "cell_type": "code",
   "execution_count": 5,
   "metadata": {},
   "outputs": [
    {
     "name": "stdout",
     "output_type": "stream",
     "text": [
      "2\n",
      "10\n",
      "-1\n"
     ]
    }
   ],
   "source": [
    "# Your answer here\n",
    "\n",
    "class TreeNode:\n",
    "    def __init__(self, val=0, left=None, right=None):\n",
    "        self.val = val\n",
    "        self.left = left\n",
    "        self.right = right\n",
    "\n",
    "def deque(q):\n",
    "    return q.pop(0)\n",
    "\n",
    "def is_duplicate(root: TreeNode) -> int:\n",
    "    if not root:\n",
    "        return -1\n",
    "    \n",
    "    seen = set()\n",
    "    queue = [root]\n",
    "    \n",
    "    while queue:\n",
    "        node = deque(queue)\n",
    "        \n",
    "        if node.val in seen:\n",
    "            return node.val\n",
    "        seen.add(node.val)\n",
    "        \n",
    "        if node.left:\n",
    "            queue.append(node.left)\n",
    "        if node.right:\n",
    "            queue.append(node.right)\n",
    "    \n",
    "    return -1\n",
    "\n",
    "def build_tree(values):\n",
    "    if not values:\n",
    "        return None\n",
    "    root = TreeNode(values[0])\n",
    "    queue = [root]\n",
    "    i = 1\n",
    "    while queue and i < len(values):\n",
    "        node = deque(queue)\n",
    "        if values[i] is not None:\n",
    "            node.left = TreeNode(values[i])\n",
    "            queue.append(node.left)\n",
    "        i += 1\n",
    "        if i < len(values) and values[i] is not None:\n",
    "            node.right = TreeNode(values[i])\n",
    "            queue.append(node.right)\n",
    "        i += 1\n",
    "    return root\n",
    "\n",
    "\n",
    "values = [1, 2, 2, 3, 5, 6, 7]\n",
    "root = build_tree(values)\n",
    "print(is_duplicate(root))\n",
    "\n",
    "values = [1, 10, 2, 3, 10, 12, 12]\n",
    "root = build_tree(values)\n",
    "print(is_duplicate(root))\n",
    "\n",
    "values = [10, 9, 7, 8]\n",
    "root = build_tree(values)\n",
    "print(is_duplicate(root))\n"
   ]
  },
  {
   "cell_type": "markdown",
   "metadata": {},
   "source": [
    "\n",
    "-   Explain why their solution works in your own words.\n"
   ]
  },
  {
   "cell_type": "code",
   "execution_count": null,
   "metadata": {},
   "outputs": [],
   "source": [
    "# Your answer here\n",
    "\n",
    "The solution worked combining multiple function definition namely TreeNode, deque, build_tree and is_duplicate function. The treenode helps defines structure of every node in the binary search, the deque is used as a helper function used to remove and add first \n",
    "element from the list and lastly the duplicate function checks for duplicates in the tree using BFS, maintains a seen set to keep track of values encountered and where a value has been encountered, it flags itas duplicate and outputs it.\n"
   ]
  },
  {
   "cell_type": "markdown",
   "metadata": {},
   "source": [
    "\n",
    "-   Explain the problem’s time and space complexity in your own words.\n"
   ]
  },
  {
   "cell_type": "code",
   "execution_count": null,
   "metadata": {},
   "outputs": [],
   "source": [
    "# Your answer here\n",
    "The time complexity of this solution is O(n) with n representing the number of nodes. since we need to visit each node once to check if value is seen and adding the value to the seen set.add\n",
    "Space complexity would be same as stated above, in a worse case scenario. The seen set in a worse case where there are no duplicates can hold all n valuesfrom the tree and for call back,\n",
    "using an iterative BFS approach, we dont have a recurssive calls adding to the stack."
   ]
  },
  {
   "cell_type": "markdown",
   "metadata": {},
   "source": [
    "\n",
    "-   Critique your partner's solution, including explanation, and if there is anything that should be adjusted.\n"
   ]
  },
  {
   "cell_type": "code",
   "execution_count": null,
   "metadata": {},
   "outputs": [],
   "source": [
    "# Your answer here\n",
    "\n",
    "The solution performed based on the requirements of the assignment however, the function name could have been reworded to catch_duplicates as that is a bit more descriptive of the requirement.\n",
    "Commenting the code could have made it more readable for anyone interacting with it for the first time."
   ]
  },
  {
   "cell_type": "markdown",
   "metadata": {},
   "source": [
    "\n",
    "## Part 3:\n",
    "\n",
    "Please write a 200 word reflection documenting your process from assignment 1, and your presentation and review experience with your partner at the bottom of the Jupyter Notebook under a new heading \"Reflection.\" Again, export this Notebook as pdf.\n"
   ]
  },
  {
   "cell_type": "markdown",
   "metadata": {},
   "source": [
    "### Reflection"
   ]
  },
  {
   "cell_type": "code",
   "execution_count": null,
   "metadata": {},
   "outputs": [],
   "source": [
    "# Your answer here\n",
    "\n",
    "This exercise of reviewing a peer code is a great learning experience and helps me to understand how different people see and approach problems using methodical steps. My peer's solution is accurate, and a core learning point for me is how he was able to nest functions in his solution, which helps to address different needs in the requirement document. A case in point: I would not have known or thought of using a deque helper function, for example, without reviewing my peers' assignments and the details of creating a set to look through the tree nodes. \n",
    "Another worthy one is the build tree function approach, which helps eradicate or eliminate the need to write about seven lines of code to build a three-depth tree. \n",
    "It can be argued that a lot of thinking goes into solution development based on the multiple-function definition, and the steps are logical. This is one key takeaway for me, and I hope to adopt it moving forward.\n",
    "Recursive function is a broad area that has helped me understand how programs execute some of the most complex tasks, ensuring speed and accuracy while breaking down complex problems and proffering pragmatic solutions. \n",
    "There is a lot that goes on in the background; however, this course has helped shed some light on that.\n"
   ]
  },
  {
   "cell_type": "markdown",
   "metadata": {},
   "source": [
    "\n",
    "## Evaluation Criteria\n",
    "\n",
    "We are looking for the similar points as Assignment 1\n",
    "\n",
    "-   Problem is accurately stated\n",
    "\n",
    "-   New example is correct and easily understandable\n",
    "\n",
    "-   Correctness, time, and space complexity of the coding solution\n",
    "\n",
    "-   Clarity in explaining why the solution works, its time and space complexity\n",
    "\n",
    "-   Quality of critique of your partner's assignment, if necessary\n"
   ]
  },
  {
   "cell_type": "markdown",
   "metadata": {},
   "source": [
    "## Submission Information\n",
    "\n",
    "🚨 **Please review our [Assignment Submission Guide](https://github.com/UofT-DSI/onboarding/blob/main/onboarding_documents/submissions.md)** 🚨 for detailed instructions on how to format, branch, and submit your work. Following these guidelines is crucial for your submissions to be evaluated correctly.\n",
    "\n",
    "### Submission Parameters:\n",
    "* Submission Due Date: `HH:MM AM/PM - DD/MM/YYYY`\n",
    "* The branch name for your repo should be: `assignment-2`\n",
    "* What to submit for this assignment:\n",
    "    * This Jupyter Notebook (assignment_2.ipynb) should be populated and should be the only change in your pull request.\n",
    "* What the pull request link should look like for this assignment: `https://github.com/<your_github_username>/algorithms_and_data_structures/pull/<pr_id>`\n",
    "    * Open a private window in your browser. Copy and paste the link to your pull request into the address bar. Make sure you can see your pull request properly. This helps the technical facilitator and learning support staff review your submission easily.\n",
    "\n",
    "Checklist:\n",
    "- [ ] Created a branch with the correct naming convention.\n",
    "- [ ] Ensured that the repository is public.\n",
    "- [ ] Reviewed the PR description guidelines and adhered to them.\n",
    "- [ ] Verify that the link is accessible in a private browser window.\n",
    "\n",
    "If you encounter any difficulties or have questions, please don't hesitate to reach out to our team via our Slack at `#cohort-3-help`. Our Technical Facilitators and Learning Support staff are here to help you navigate any challenges.\n"
   ]
  }
 ],
 "metadata": {
  "kernelspec": {
   "display_name": "dsi_participant",
   "language": "python",
   "name": "python3"
  },
  "language_info": {
   "codemirror_mode": {
    "name": "ipython",
    "version": 3
   },
   "file_extension": ".py",
   "mimetype": "text/x-python",
   "name": "python",
   "nbconvert_exporter": "python",
   "pygments_lexer": "ipython3",
   "version": "3.9.15"
  }
 },
 "nbformat": 4,
 "nbformat_minor": 2
}
